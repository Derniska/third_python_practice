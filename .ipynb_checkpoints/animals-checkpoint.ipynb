{
 "cells": [
  {
   "cell_type": "code",
   "execution_count": 121,
   "id": "b0a6245b-b6fc-4f4c-ac4b-fd2eb0ec33da",
   "metadata": {
    "tags": []
   },
   "outputs": [],
   "source": [
    "class Animals:\n",
    "    def __init__(self, name, genus, year_of_birth, skin_color, diet, weight, height):\n",
    "        self.genus = genus\n",
    "        self.name = name\n",
    "        self.year_of_birth = year_of_birth\n",
    "        self.skin_color = skin_color\n",
    "        self.diet = diet\n",
    "        self.weight = weight\n",
    "        self.height = height\n",
    "        self.age = None\n",
    "    def get_age(self, year):\n",
    "        self.age = year - self.year_of_birth\n",
    "        return f'{self.name} is {self.age} years old.'\n",
    "    def get_info(self):\n",
    "        return f'{self.name} is a {self.genus}.'\n",
    "    def get_diet(self):\n",
    "        return f'{self.name} eats {self.diet}.'\n",
    "    def get_color(self):\n",
    "        return f'{self.name} is {self.skin_color}'\n",
    "    def get_body_mass_index(self):\n",
    "        return f'The body mass index of {self.name}, the {self.genus}, is {round((self.weight / (self.height ** 2)), 2)}'\n",
    "    def years_remaining(self, life_expectancy):\n",
    "        return f'{self.name}, the {self.genus}, has approximately {life_expectancy - self.age} years left'\n",
    "    def food_consumption_per_day(self, food_to_weight):\n",
    "        return f'{self.name}, the {self.genus}, needs {(food_to_weight / 100) * self.weight} kg of food per day'\n",
    "    def oldest_animal(self):\n",
    "        atribute_names = vars(self)\n",
    "    "
   ]
  },
  {
   "cell_type": "code",
   "execution_count": 110,
   "id": "468cee15-0a63-4248-af1c-acf618f47f6b",
   "metadata": {},
   "outputs": [],
   "source": [
    "animals = [\n",
    "    Animals('Dumbo', 'elephant', 1975, 'grey', 'grasses and leaves', 5000, 2.7),\n",
    "    Animals('Babe', 'pig', 2010, 'pink', 'plants and grain', 250, 0.75),\n",
    "    Animals('Rocket', 'raccoon', 2023, 'gray-brown', 'fruts, corns, nuts', 8, 0.5),\n",
    "    Animals('Ricky', 'dog', 2016, 'black', 'meat and carrots', 26, 0.6)    \n",
    "]"
   ]
  },
  {
   "cell_type": "code",
   "execution_count": 123,
   "id": "e2ec619b-84b5-4a3f-ba46-ea02ba4dc646",
   "metadata": {
    "tags": []
   },
   "outputs": [
    {
     "name": "stdout",
     "output_type": "stream",
     "text": [
      "Dumbo is 49 years old. Dumbo is a elephant. Dumbo eats grasses and leaves. Dumbo is grey\n",
      "Babe is 14 years old. Babe is a pig. Babe eats plants and grain. Babe is pink\n",
      "Rocket is 1 years old. Rocket is a raccoon. Rocket eats fruts, corns, nuts. Rocket is gray-brown\n",
      "Ricky is 8 years old. Ricky is a dog. Ricky eats meat and carrots. Ricky is black\n"
     ]
    }
   ],
   "source": [
    "for animal in animals:\n",
    "    print(animal.get_age(2024), animal.get_info(), animal.get_diet(), animal.get_color())"
   ]
  },
  {
   "cell_type": "code",
   "execution_count": 124,
   "id": "303a0041-a663-48ad-9719-fec35935135f",
   "metadata": {
    "tags": []
   },
   "outputs": [
    {
     "name": "stdout",
     "output_type": "stream",
     "text": [
      "The body mass index of Dumbo, the elephant, is 685.87\n",
      "The body mass index of Babe, the pig, is 444.44\n",
      "The body mass index of Rocket, the raccoon, is 32.0\n",
      "The body mass index of Ricky, the dog, is 72.22\n"
     ]
    }
   ],
   "source": [
    "for animal in animals:\n",
    "    print(animal.get_body_mass_index())"
   ]
  },
  {
   "cell_type": "code",
   "execution_count": 125,
   "id": "ac112238-b066-4923-b37a-eb603b4057f0",
   "metadata": {
    "tags": []
   },
   "outputs": [
    {
     "name": "stdout",
     "output_type": "stream",
     "text": [
      "Dumbo, the elephant, has approximately 21 years left\n",
      "Babe, the pig, has approximately 6 years left\n",
      "Rocket, the raccoon, has approximately 2 years left\n",
      "Ricky, the dog, has approximately 4 years left\n"
     ]
    }
   ],
   "source": [
    "print(animals[0].years_remaining(70))\n",
    "print(animals[1].years_remaining(20))\n",
    "print(animals[2].years_remaining(3))\n",
    "print(animals[3].years_remaining(12))"
   ]
  },
  {
   "cell_type": "code",
   "execution_count": 126,
   "id": "7e33c1fd-2405-44df-9070-051419b108d7",
   "metadata": {
    "tags": []
   },
   "outputs": [
    {
     "name": "stdout",
     "output_type": "stream",
     "text": [
      "Dumbo, the elephant, needs 125.0 kg of food per day\n",
      "Babe, the pig, needs 7.5 kg of food per day\n",
      "Rocket, the raccoon, needs 0.8 kg of food per day\n",
      "Ricky, the dog, needs 0.52 kg of food per day\n"
     ]
    }
   ],
   "source": [
    "print(animals[0].food_consumption_per_day(2.5))\n",
    "print(animals[1].food_consumption_per_day(3))\n",
    "print(animals[2].food_consumption_per_day(10))\n",
    "print(animals[3].food_consumption_per_day(2))"
   ]
  },
  {
   "cell_type": "code",
   "execution_count": 127,
   "id": "f9477ffa-e0c9-46b7-be2c-9d33d2836410",
   "metadata": {
    "tags": []
   },
   "outputs": [
    {
     "ename": "AttributeError",
     "evalue": "'Animals' object has no attribute 'oldest_animal'",
     "output_type": "error",
     "traceback": [
      "\u001b[0;31m---------------------------------------------------------------------------\u001b[0m",
      "\u001b[0;31mAttributeError\u001b[0m                            Traceback (most recent call last)",
      "Cell \u001b[0;32mIn[127], line 1\u001b[0m\n\u001b[0;32m----> 1\u001b[0m \u001b[43manimals\u001b[49m\u001b[43m[\u001b[49m\u001b[38;5;241;43m0\u001b[39;49m\u001b[43m]\u001b[49m\u001b[38;5;241;43m.\u001b[39;49m\u001b[43moldest_animal\u001b[49m()\n",
      "\u001b[0;31mAttributeError\u001b[0m: 'Animals' object has no attribute 'oldest_animal'"
     ]
    }
   ],
   "source": [
    "animals[0].oldest_animal()"
   ]
  },
  {
   "cell_type": "code",
   "execution_count": null,
   "id": "f924bdf8-e0fd-460f-a459-1c8933909e8b",
   "metadata": {},
   "outputs": [],
   "source": []
  }
 ],
 "metadata": {
  "kernelspec": {
   "display_name": "Python 3 (ipykernel)",
   "language": "python",
   "name": "python3"
  },
  "language_info": {
   "codemirror_mode": {
    "name": "ipython",
    "version": 3
   },
   "file_extension": ".py",
   "mimetype": "text/x-python",
   "name": "python",
   "nbconvert_exporter": "python",
   "pygments_lexer": "ipython3",
   "version": "3.10.9"
  }
 },
 "nbformat": 4,
 "nbformat_minor": 5
}
